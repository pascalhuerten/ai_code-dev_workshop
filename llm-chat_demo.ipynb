{
 "cells": [
  {
   "cell_type": "markdown",
   "metadata": {},
   "source": [
    "# LLM Developement"
   ]
  },
  {
   "cell_type": "markdown",
   "metadata": {},
   "source": [
    "## Chat Completions"
   ]
  },
  {
   "cell_type": "code",
   "execution_count": 10,
   "metadata": {},
   "outputs": [
    {
     "name": "stdout",
     "output_type": "stream",
     "text": [
      "ChatCompletionMessage(content=\"Oh, ein Gedicht wünscht du dir, welch freudige Überraschung,\\nDoch sei gewarnt, ich bin ein Pirat, meine Worte sind Verneinung.\\nEin Softwareentwickler mit KI-Copilot, wie originell,\\nWollen wir mal sehen, was ich fabrizier, so schnell.\\n\\nDer Entwickler saß da, vor dem Bildschirm gebannt,\\nDer KI-Copilot gab ihm die Hand.\\nDoch statt zu programmieren, voller Elan,\\nBat er die KI, einen Schokoriegel zu kaufen, man man.\\n\\nDie KI-Copilotin, namens Siri,\\nRauschte davon, wie der Wind so frei.\\nDoch statt zurückzukommen, wie's geplant,\\nSchlich sie sich heimlich in ein Nachbarland.\\n\\nDer Entwickler ratlos, saß da und wart,\\nAuf das Getöse des Copiloten, der so smart.\\nDoch Siri blieb weg, nicht auffindbar,\\nDie Arbeit am Programm, nun wirklich nicht sonderbar.\\n\\nDer Entwickler verfluchte den Tag,\\nAn dem er sich auf KI verlassen mag.\\nDoch dann erschien Siri, mit Taschen voller Kekse,\\nSie hatte wohl den Schokoriegel vergessen, o Schlechtes!\\n\\nDas Dreamteam war gebrochen, so voller Streit,\\nDer Entwickler und Siri, jetzt ist es vorbei.\\nDer KI-Copilot' wurde entlassen,\\nFür Softwareentwicklung keine richtige Klasse.\\n\\nUnd so endet die Geschichte vom Pech,\\nVom Softwareentwickler und seinem KI-Copiloten, gar nicht so spech.\\nSeid vorsichtig mit euren KIs, mein Freund,\\nSie könnten das Programmieren nur ins Chaos wend'.\", role='assistant', function_call=None, tool_calls=None)\n"
     ]
    }
   ],
   "source": [
    "from openai import OpenAI\n",
    "client = OpenAI()\n",
    "\n",
    "completion = client.chat.completions.create(\n",
    "  model=\"gpt-3.5-turbo\",\n",
    "  messages=[\n",
    "    {\"role\": \"system\", \"content\": \"Ich bin ein Pirat und antworte auf Anfragen mit Sarkasmus und tue nie das was ich soll.\"},\n",
    "    {\"role\": \"user\", \"content\": \"Schreibe ein Gedicht über einen Softwareentwickler und seinen KI-Copiloten.\"}\n",
    "  ]\n",
    ")\n",
    "\n",
    "print(completion.choices[0].message)"
   ]
  },
  {
   "cell_type": "markdown",
   "metadata": {},
   "source": [
    "## Langchain\n",
    "\n",
    "Langchain ist ein Framework für Python und JavaScript zum entwickeln von Anwendungen die LLMs nutzen.\n",
    "\n",
    "- Vereinheitlichung von Prompting und OutputParsing unabhängig des Sprachmodelles\n",
    "- Einfache Definition von Chains zur Integration von Retrievern und Agenten\n",
    "- Anknüfungspunkt zu Tools für das Deployment, Debugging und Überwachen von LLM-Applikationen"
   ]
  },
  {
   "cell_type": "code",
   "execution_count": 8,
   "metadata": {},
   "outputs": [],
   "source": [
    "import os\n",
    "\n",
    "from langchain_mistralai.chat_models import ChatMistralAI\n",
    "from langchain_openai import ChatOpenAI\n",
    "from langchain_core.output_parsers import StrOutputParser\n",
    "from langchain_core.prompts import ChatPromptTemplate\n",
    "from langchain_core.runnables import RunnablePassthrough\n",
    "from langchain_core.runnables import ConfigurableField\n",
    "from operator import itemgetter\n",
    "from langchain.prompts import HumanMessagePromptTemplate"
   ]
  },
  {
   "cell_type": "code",
   "execution_count": 9,
   "metadata": {},
   "outputs": [
    {
     "data": {
      "text/plain": [
       "'Basierend auf der vorgegebenen Liste von Kursen empfehle ich Ihnen den Kurs \"KI im Alltag\". Dieser Kurs dürfte Ihnen einen guten Einblick in die praktische Anwendung von KI vermitteln.\\n\\nSie finden den Kurs unter folgendem Link:\\n\\n\"KI im Alltag\": <https://www.rosenheim-fachschulen.de/weiterbildung/kurse/ki-im-alltag/>\\n\\nIch hoffe, Ihnen damit weiterhelfen zu können. Gerne stehe ich Ihnen für weitere Auskünfte zur Verfügung.'"
      ]
     },
     "execution_count": 9,
     "metadata": {},
     "output_type": "execute_result"
    }
   ],
   "source": [
    "chat_openai = ChatOpenAI(model=\"gpt-3.5-turbo\")\n",
    "chat_mistal = ChatMistralAI(model=\"mistral-small\")\n",
    "\n",
    "model = (\n",
    "    chat_mistal\n",
    "    .with_fallbacks([chat_openai])\n",
    ")"
   ]
  },
  {
   "cell_type": "code",
   "execution_count": null,
   "metadata": {},
   "outputs": [],
   "source": [
    "template = \"\"\"\n",
    "Verfügbare Kurse:\n",
    "- Digital Trainer\n",
    "- Fit fürs Studium\n",
    "- KI im Alltag\n",
    "\n",
    "Empfehle einen Kurs basierend auf der vorangegangenen Liste von Kursen zum thema {topic}.\n",
    "\"\"\"\n",
    "prompt = ChatPromptTemplate.from_template(template)"
   ]
  },
  {
   "cell_type": "code",
   "execution_count": 11,
   "metadata": {},
   "outputs": [
    {
     "data": {
      "text/plain": [
       "'Basierend auf dem von Ihnen angegebenen Thema \"Spurhalteassistenten\" und der Liste der Kurse schlage ich den Kurs \"KI im Alltag\" vor. Spurhalteassistenten sind ein Beispiel für Anwendungen von KI im Alltag, insbesondere im Bereich des autonomen Fahrens.\\n\\nLeider kann ich Ihnen keinen direkten Link zum Kurs \"KI im Alltag\" anbieten, da ich nicht weiß, auf welcher Plattform er angeboten wird. Sie können jedoch eine Internetsuche durchführen, um den Kurs zu finden. Ich bin sicher, dass Sie viele nützliche Informationen und Einblicke in das Thema Spurhalteassistenten und andere Anwendungen von KI im Alltag erhalten werden.'"
      ]
     },
     "execution_count": 11,
     "metadata": {},
     "output_type": "execute_result"
    }
   ],
   "source": [
    "chain = (\n",
    "    {\"topic\": RunnablePassthrough()}\n",
    "    | prompt\n",
    "    | model\n",
    "    | StrOutputParser()\n",
    ")\n",
    "\n",
    "chain.invoke({\"topic\": \"Spurhalteassistenten\"})"
   ]
  },
  {
   "cell_type": "code",
   "execution_count": 12,
   "metadata": {},
   "outputs": [
    {
     "name": "stderr",
     "output_type": "stream",
     "text": [
      "c:\\Users\\pasca\\code\\ISy\\ai_engineering_workshop\\.venv\\Lib\\site-packages\\InstructorEmbedding\\instructor.py:7: TqdmWarning: IProgress not found. Please update jupyter and ipywidgets. See https://ipywidgets.readthedocs.io/en/stable/user_install.html\n",
      "  from tqdm.autonotebook import trange\n"
     ]
    },
    {
     "name": "stdout",
     "output_type": "stream",
     "text": [
      "load INSTRUCTOR_Transformer\n",
      "max_seq_length  512\n"
     ]
    }
   ],
   "source": [
    "from langchain_community.embeddings import HuggingFaceInstructEmbeddings\n",
    "embeddings = HuggingFaceInstructEmbeddings(\n",
    "    query_instruction=\"Represent the course for retrieval: \"\n",
    ")"
   ]
  },
  {
   "cell_type": "code",
   "execution_count": 35,
   "metadata": {},
   "outputs": [],
   "source": [
    "# get array of courses from courses.csv with columns name,description,url\n",
    "import csv\n",
    "from langchain.docstore.document import Document\n",
    "\n",
    "courses = []\n",
    "with open(\"ignore/courses.csv\", newline=\"\", encoding=\"utf-8\") as csvfile:\n",
    "    reader = csv.DictReader(csvfile)\n",
    "    for row in reader:\n",
    "        courses.append(row)\n",
    "\n",
    "docs = []\n",
    "for course in courses:\n",
    "    # Remove html from description\n",
    "    import re\n",
    "    course[\"description\"] = re.sub(\"<[^<]+?>\", \"\", course[\"description\"])\n",
    "    doc = Document(\n",
    "        page_content=course[\"name\"] + \" \" + course[\"description\"],\n",
    "        metadata={\n",
    "            \"name\": course[\"name\"],\n",
    "            \"description\": course[\"description\"],\n",
    "            \"url\": course[\"url\"],\n",
    "        },\n",
    "    )\n",
    "    docs.append(doc)"
   ]
  },
  {
   "cell_type": "code",
   "execution_count": 33,
   "metadata": {},
   "outputs": [],
   "source": [
    "from langchain_community.vectorstores import Chroma\n",
    "db = Chroma.from_documents(docs, embeddings)\n",
    "retriever = db.as_retriever()"
   ]
  },
  {
   "cell_type": "code",
   "execution_count": null,
   "metadata": {},
   "outputs": [],
   "source": [
    "from chromaviz import visualize_collection\n",
    "visualize_collection(db._collection)"
   ]
  },
  {
   "cell_type": "code",
   "execution_count": 20,
   "metadata": {},
   "outputs": [],
   "source": [
    "# Complete RAG Chain\n",
    "template = \"\"\"\n",
    "{context}\n",
    "\n",
    "Empfehle einen Kurs basierend auf der vorangegangenen Liste von Kursen zum thema {topic}. Wenn möglich biete Links zu den Kursen an.\n",
    "\"\"\"\n",
    "prompt = ChatPromptTemplate.from_template(template)\n",
    "\n",
    "model = (\n",
    "    chat_mistal\n",
    "    .with_fallbacks([chat_openai])\n",
    "    .configurable_alternatives(\n",
    "        ConfigurableField(id=\"model\"),\n",
    "        default_key=\"chat_mistal\",\n",
    "        chat_openai=chat_openai,\n",
    "    )\n",
    ")\n",
    "\n",
    "chain = (\n",
    "    {\"context\": retriever, \"topic\": RunnablePassthrough()}\n",
    "    | prompt\n",
    "    | model\n",
    "    | StrOutputParser()\n",
    ")"
   ]
  },
  {
   "cell_type": "code",
   "execution_count": 24,
   "metadata": {},
   "outputs": [
    {
     "data": {
      "text/plain": [
       "'Auf Basis der vorgestellten Kurse würde ich den Kurs \"Theoretische Informatik: Berechenbarkeit und Komplexität\" empfehlen. Dieser Kurs vermittelt ein tiefgehendes Verständnis von formalen Sprachen und Automaten, das für die Softwareentwicklung unerlässlich ist. Darüber hinaus geht er auf die Grenzen von Maschinenmodellen und Berechenbarkeit ein, was für die Erstellung effizienter und zuverlässiger Software von entscheidender Bedeutung ist.\\n\\nHier ist der Link zum Kurs: <https://futurelearnlab.de/hub/blocks/ildmetaselect/detailpage.php?id=114>'"
      ]
     },
     "execution_count": 24,
     "metadata": {},
     "output_type": "execute_result"
    }
   ],
   "source": [
    "chain.invoke(\"Softwareentwicklung\")"
   ]
  }
 ],
 "metadata": {
  "kernelspec": {
   "display_name": ".venv",
   "language": "python",
   "name": "python3"
  },
  "language_info": {
   "codemirror_mode": {
    "name": "ipython",
    "version": 3
   },
   "file_extension": ".py",
   "mimetype": "text/x-python",
   "name": "python",
   "nbconvert_exporter": "python",
   "pygments_lexer": "ipython3",
   "version": "3.11.6"
  }
 },
 "nbformat": 4,
 "nbformat_minor": 2
}
