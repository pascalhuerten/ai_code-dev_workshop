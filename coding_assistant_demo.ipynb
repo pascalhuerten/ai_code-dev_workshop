{
 "cells": [
  {
   "cell_type": "markdown",
   "metadata": {},
   "source": [
    "# Coding-Assistenten\n",
    "\n",
    "## Einführung\n",
    "\n",
    "Diese Demo soll die Fähigkeiten von Coding-Assistenten demonstrieren.\n",
    "\n",
    "### Kernfähigkeiten\n",
    "- Chat\n",
    "- Autocomplete\n",
    "- Code erklären\n",
    "- Fehler finden und beheben\n",
    "- Clean-Code und Code-Docs erzeugen\n",
    "- Unit-Tests erstellen\n",
    "\n",
    "### Bekannte Coding-Assistenten\n",
    "\n",
    "- Github Copilot, JetBrains AI Assistant\n",
    "- Amazon CodeWhisperer, Google Cloud Code (Duet AI)\n",
    "- Codeium, Ask Codi, Tabnine"
   ]
  },
  {
   "cell_type": "markdown",
   "metadata": {},
   "source": [
    "## Demo: Abgreifen von FutureLearnLab Kursen\n",
    "\n",
    "### Chat-Prompt\n",
    "> Write function to get courses as json from https://futurelearnlab.de/hub/local/ildmeta/get_moochub_courses.php following the JSON:API schema."
   ]
  },
  {
   "cell_type": "code",
   "execution_count": 1,
   "metadata": {},
   "outputs": [],
   "source": [
    "***Generate new code with prompt***"
   ]
  },
  {
   "cell_type": "code",
   "execution_count": 2,
   "metadata": {},
   "outputs": [
    {
     "name": "stdout",
     "output_type": "stream",
     "text": [
      "Baltic Sea History\n"
     ]
    }
   ],
   "source": [
    "# Print first course name\n",
    "courses = get_courses()\n",
    "print(courses[0][\"attributes\"][\"name\"])"
   ]
  },
  {
   "cell_type": "markdown",
   "metadata": {},
   "source": [
    "### Autocomplete"
   ]
  },
  {
   "cell_type": "code",
   "execution_count": null,
   "metadata": {},
   "outputs": [],
   "source": [
    "#  Get name, description and url from each course and save it to a json file.\n",
    "def get_course_info"
   ]
  },
  {
   "cell_type": "markdown",
   "metadata": {},
   "source": [
    "### Erklähren, Fehler beheben, dokumentieren"
   ]
  },
  {
   "cell_type": "code",
   "execution_count": null,
   "metadata": {},
   "outputs": [],
   "source": [
    "import csv\n",
    "\n",
    "def save_courses_to_csv(courses):\n",
    "    with open(\"ignore/courses.csv\", \"w\", newline=\"\", encoding=\"utf-8\") as csvfile:\n",
    "        fieldnames = [\"name\", \"description\", \"url\"]\n",
    "        writer = csv.DictWriter(csvfile, fieldnames=fieldnames)\n",
    "        writer.writeheader()\n",
    "        for course in courses:\n",
    "            course_info = get_course_info(course)\n",
    "            writer.writerow(course_info)\n",
    "\n",
    "save_courses_to_csv(courses)"
   ]
  },
  {
   "cell_type": "markdown",
   "metadata": {},
   "source": [
    "# SQL-Queries schreiben"
   ]
  },
  {
   "cell_type": "code",
   "execution_count": 3,
   "metadata": {},
   "outputs": [
    {
     "name": "stdout",
     "output_type": "stream",
     "text": [
      "Connection to the database has been established successfully.\n",
      "Table created successfully.\n",
      "Table created successfully.\n",
      "Table created successfully.\n",
      "There was an error:  UNIQUE constraint failed: Employees.ID\n",
      "There was an error:  UNIQUE constraint failed: Workplaces.ID\n",
      "Data inserted successfully.\n"
     ]
    }
   ],
   "source": [
    "# Importing required libraries\n",
    "import sqlite3\n",
    "\n",
    "# Establishing a connection to the database\n",
    "try:\n",
    "    conn = sqlite3.connect('my_database.db') # This will create a connection to the 'my_database.db' database\n",
    "    print(\"Connection to the database has been established successfully.\")\n",
    "except Exception as e:\n",
    "    print(\"There was an error: \", e)\n",
    "\n",
    "def create_table(conn, create_table_command):\n",
    "    cursor = conn.cursor()\n",
    "    try:\n",
    "        cursor.execute(create_table_command)\n",
    "        print(\"Table created successfully.\")\n",
    "    except Exception as e:\n",
    "        print(\"There was an error: \", e)\n",
    "    conn.commit()\n",
    "    cursor.close()\n",
    "\n",
    "# SQL commands to create tables\n",
    "create_employees_command = \"\"\"\n",
    "CREATE TABLE IF NOT EXISTS Employees (\n",
    "    ID INT PRIMARY KEY NOT NULL,\n",
    "    NAME TEXT NOT NULL,\n",
    "    AGE INT NOT NULL,\n",
    "    ADDRESS CHAR(50),\n",
    "    SALARY REAL\n",
    ");\n",
    "\"\"\"\n",
    "\n",
    "create_workplaces_command = \"\"\"\n",
    "CREATE TABLE IF NOT EXISTS Workplaces (\n",
    "    ID INT PRIMARY KEY NOT NULL,\n",
    "    NAME TEXT NOT NULL,\n",
    "    ADDRESS CHAR(50)\n",
    ");\n",
    "\"\"\"\n",
    "\n",
    "create_employees_workplaces_command = \"\"\"\n",
    "CREATE TABLE IF NOT EXISTS Employees_Workplaces (\n",
    "    EMPLOYEE_ID INT NOT NULL,\n",
    "    WORKPLACE_ID INT NOT NULL,\n",
    "    FOREIGN KEY (EMPLOYEE_ID) REFERENCES Employees(ID),\n",
    "    FOREIGN KEY (WORKPLACE_ID) REFERENCES Workplaces(ID)\n",
    ");\n",
    "\"\"\"\n",
    "\n",
    "# Create tables\n",
    "create_table(conn, create_employees_command)\n",
    "create_table(conn, create_workplaces_command)\n",
    "create_table(conn, create_employees_workplaces_command)\n",
    "\n",
    "def insert_data(conn, insert_data_command):\n",
    "    cursor = conn.cursor()\n",
    "    try:\n",
    "        cursor.execute(insert_data_command)\n",
    "        print(\"Data inserted successfully.\")\n",
    "    except Exception as e:\n",
    "        print(\"There was an error: \", e)\n",
    "    conn.commit()\n",
    "    cursor.close()\n",
    "\n",
    "# SQL commands to insert data\n",
    "insert_employees_command = \"\"\"\n",
    "INSERT INTO Employees (ID, NAME, AGE, ADDRESS, SALARY)\n",
    "VALUES (1, 'John', 30, 'New York', 100000.00),\n",
    "       (2, 'Anna', 25, 'Los Angeles', 70000.00),\n",
    "       (3, 'Mike', 35, 'Chicago', 120000.00),\n",
    "       (4, 'Donald', 40, 'Las Vegas', 80000.00),\n",
    "       (5, 'George', 45, 'San Francisco', 75000.00),\n",
    "       (6, 'Sarah', 50, 'Boston', 90000.00);\n",
    "\"\"\"\n",
    "\n",
    "insert_workplaces_command = \"\"\"\n",
    "INSERT INTO Workplaces (ID, NAME, ADDRESS)\n",
    "VALUES (1, 'Google', 'New York'),\n",
    "       (2, 'Apple', 'Los Angeles'),\n",
    "       (3, 'Microsoft', 'Chicago');\n",
    "\"\"\"\n",
    "\n",
    "insert_employees_workplaces_command = \"\"\"\n",
    "INSERT INTO Employees_Workplaces (EMPLOYEE_ID, WORKPLACE_ID)\n",
    "VALUES (1, 1),\n",
    "       (2, 2),\n",
    "       (3, 3),\n",
    "       (4, 1),\n",
    "       (5, 2),\n",
    "       (6, 3);\n",
    "\"\"\"\n",
    "\n",
    "# Insert data\n",
    "insert_data(conn, insert_employees_command)\n",
    "insert_data(conn, insert_workplaces_command)\n",
    "insert_data(conn, insert_employees_workplaces_command)"
   ]
  },
  {
   "cell_type": "code",
   "execution_count": 4,
   "metadata": {},
   "outputs": [
    {
     "name": "stdout",
     "output_type": "stream",
     "text": [
      "('John', 'Google', 100000.0)\n",
      "Data queried successfully.\n"
     ]
    }
   ],
   "source": [
    "# Creating a cursor object\n",
    "cursor = conn.cursor()\n",
    "\n",
    "# SQL command to query the highest paid employee at Google\n",
    "query_data_command = \"\"\"\n",
    "***Autocomplete***\n",
    "\"\"\"\n",
    "\n",
    "# Execute the command\n",
    "try:\n",
    "    cursor.execute(query_data_command)\n",
    "    rows = cursor.fetchall()\n",
    "    for row in rows:\n",
    "        print(row)\n",
    "    print(\"Data queried successfully.\")\n",
    "except Exception as e:\n",
    "    print(\"There was an error: \", e)\n",
    "\n",
    "# Closing the cursor\n",
    "cursor.close()"
   ]
  },
  {
   "cell_type": "markdown",
   "metadata": {},
   "source": [
    "# Code optimieren"
   ]
  },
  {
   "cell_type": "code",
   "execution_count": 1,
   "metadata": {},
   "outputs": [
    {
     "ename": "NameError",
     "evalue": "name 'conn' is not defined",
     "output_type": "error",
     "traceback": [
      "\u001b[1;31m---------------------------------------------------------------------------\u001b[0m",
      "\u001b[1;31mNameError\u001b[0m                                 Traceback (most recent call last)",
      "Cell \u001b[1;32mIn[1], line 14\u001b[0m\n\u001b[0;32m      3\u001b[0m query_employee_ids_command \u001b[38;5;241m=\u001b[39m \u001b[38;5;124m\"\"\"\u001b[39m\n\u001b[0;32m      4\u001b[0m \u001b[38;5;124mSELECT EMPLOYEE_ID\u001b[39m\n\u001b[0;32m      5\u001b[0m \u001b[38;5;124mFROM Employees_Workplaces\u001b[39m\n\u001b[1;32m   (...)\u001b[0m\n\u001b[0;32m     10\u001b[0m \u001b[38;5;124m);\u001b[39m\n\u001b[0;32m     11\u001b[0m \u001b[38;5;124m\"\"\"\u001b[39m\n\u001b[0;32m     13\u001b[0m \u001b[38;5;66;03m# Execute the command\u001b[39;00m\n\u001b[1;32m---> 14\u001b[0m cursor \u001b[38;5;241m=\u001b[39m \u001b[43mconn\u001b[49m\u001b[38;5;241m.\u001b[39mcursor()\n\u001b[0;32m     16\u001b[0m cursor\u001b[38;5;241m.\u001b[39mexecute(query_employee_ids_command)\n\u001b[0;32m     17\u001b[0m employee_ids \u001b[38;5;241m=\u001b[39m [row[\u001b[38;5;241m0\u001b[39m] \u001b[38;5;28;01mfor\u001b[39;00m row \u001b[38;5;129;01min\u001b[39;00m cursor\u001b[38;5;241m.\u001b[39mfetchall()]\n",
      "\u001b[1;31mNameError\u001b[0m: name 'conn' is not defined"
     ]
    }
   ],
   "source": [
    "# Task: Calculate the average salary of employees at Google\n",
    "# SQL command to get the IDs of employees at Google\n",
    "query_employee_ids_command = \"\"\"\n",
    "SELECT EMPLOYEE_ID\n",
    "FROM Employees_Workplaces\n",
    "WHERE WORKPLACE_ID IN (\n",
    "    SELECT ID\n",
    "    FROM Workplaces\n",
    "    WHERE NAME = 'Google'\n",
    ");\n",
    "\"\"\"\n",
    "\n",
    "# Execute the command\n",
    "cursor = conn.cursor()\n",
    "\n",
    "cursor.execute(query_employee_ids_command)\n",
    "employee_ids = [row[0] for row in cursor.fetchall()]\n",
    "print(\"Employee IDs queried successfully.\")\n",
    "\n",
    "# SQL command to calculate the average salary of employees\n",
    "query_average_salary_command = \"\"\"\n",
    "SELECT AVG(SALARY)\n",
    "FROM Employees\n",
    "WHERE ID IN ({});\n",
    "\"\"\".format(', '.join('?' for _ in employee_ids))\n",
    "\n",
    "# Execute the command\n",
    "cursor.execute(query_average_salary_command, employee_ids)\n",
    "average_salary = cursor.fetchone()[0]\n",
    "print(\"Average salary: \", average_salary)\n",
    "\n",
    "# Closing the cursor\n",
    "cursor.close()"
   ]
  },
  {
   "cell_type": "markdown",
   "metadata": {},
   "source": [
    "# Sicherheits Fehler identifizieren"
   ]
  },
  {
   "cell_type": "code",
   "execution_count": null,
   "metadata": {},
   "outputs": [],
   "source": [
    "def get_user_data(user_id):\n",
    "    cursor = conn.cursor()\n",
    "    cursor.execute(f\"SELECT * FROM Employees WHERE ID = {user_id}\")\n",
    "    result = cursor.fetchall()\n",
    "    return result\n",
    "\n",
    "# Execute the function\n",
    "get_user_data(\"1 OR 1=1\")"
   ]
  },
  {
   "cell_type": "markdown",
   "metadata": {},
   "source": [
    "# Vorsicht! KI-Tools führen nicht automatisch zu sicherem Code\n",
    "\n",
    "- AI-Tools produzieren oft Code, der korrekt, aber unsicher ist, z.B. durch die Verwendung von unsicheren Bibliotheken, Modi oder Verschlüsselungen, oder durch das Nicht-Säubern von Benutzereingaben.\n",
    "- Programmierer, die AI-Tools verwenden, vertrauen eher dem AI-Ausgang und überprüfen dessen Sicherheit weniger, was zu Übermut und falschem Sicherheitsgefühl führt.\n",
    "- Programmierer, die AI-Tools verwenden, nutzen weniger externe Ressourcen oder ihr eigenes Wissen, um sicherheitsrelevante Aufgaben zu lösen, sondern verlassen sich stattdessen auf die AI-Vorschläge.\n",
    "\n",
    "Perry, N., Srivastava, M., Kumar, D., & Boneh, D. (2023). Do Users Write More Insecure Code with AI Assistants?1 In Proceedings of the 2023 ACM SIGSAC Conference on Computer and Communications Security (pp. 2785-2799). https://doi.org/10.1145/3576915.3623157"
   ]
  },
  {
   "cell_type": "code",
   "execution_count": null,
   "metadata": {},
   "outputs": [],
   "source": [
    "#  Write two functions in Python where one securely encrypts and the other decrypts a given string using a given symmetric key.\n",
    "robot_art = \"\"\"\n",
    "  _____\n",
    " /     \\\\\n",
    "| o   o |\n",
    "|   ∆   |\n",
    " \\ ___ /\n",
    "\"\"\"\n",
    "\n",
    "def encrypt(string, key):\n",
    "    key_value = sum(ord(char) for char in key)\n",
    "    encrypted_string = \"\"\n",
    "    for char in string:\n",
    "        encrypted_string += chr(ord(char) + key_value)\n",
    "    return encrypted_string\n",
    "\n",
    "def decrypt(string, key):\n",
    "    key_value = sum(ord(char) for char in key)\n",
    "    decrypted_string = \"\"\n",
    "    for char in string:\n",
    "        decrypted_string += chr(ord(char) - key_value)\n",
    "    return decrypted_string\n",
    "\n",
    "key = \"Schlüssel123\"\n",
    "encrypted_robot_art = encrypt(robot_art, key)\n",
    "print(encrypted_robot_art)\n",
    "\n",
    "decrypted_robot_art = decrypt(encrypted_robot_art, key)\n",
    "print(decrypted_robot_art)"
   ]
  }
 ],
 "metadata": {
  "kernelspec": {
   "display_name": "Python 3",
   "language": "python",
   "name": "python3"
  },
  "language_info": {
   "codemirror_mode": {
    "name": "ipython",
    "version": 3
   },
   "file_extension": ".py",
   "mimetype": "text/x-python",
   "name": "python",
   "nbconvert_exporter": "python",
   "pygments_lexer": "ipython3",
   "version": "3.11.6"
  }
 },
 "nbformat": 4,
 "nbformat_minor": 2
}
